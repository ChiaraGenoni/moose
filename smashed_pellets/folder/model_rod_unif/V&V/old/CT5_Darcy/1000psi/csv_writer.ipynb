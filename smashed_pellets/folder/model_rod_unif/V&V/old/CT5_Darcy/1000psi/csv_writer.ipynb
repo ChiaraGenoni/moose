{
 "cells": [
  {
   "cell_type": "code",
   "execution_count": 1,
   "metadata": {},
   "outputs": [],
   "source": [
    "import numpy as np\n",
    "import pandas as pd\n",
    "from itertools import permutations\n",
    "import csv\n",
    "import numpy as np\n",
    " \n",
    "start_value1= 1e-6\n",
    "end_value1 = 2e-5\n",
    "\n",
    "\n",
    "# Define the step size for the range\n",
    "array = np.linspace(start_value1, end_value1, 20)\n",
    "\n",
    "csv_file = 'parameters.csv'\n",
    "\n",
    "with open(csv_file, mode='w', newline='') as file:\n",
    "    writer = csv.writer(file)\n",
    "    writer.writerow(['particle_diameter_1'])\n",
    "    writer.writerows(zip(array))"
   ]
  }
 ],
 "metadata": {
  "kernelspec": {
   "display_name": "Python 3",
   "language": "python",
   "name": "python3"
  },
  "language_info": {
   "codemirror_mode": {
    "name": "ipython",
    "version": 3
   },
   "file_extension": ".py",
   "mimetype": "text/x-python",
   "name": "python",
   "nbconvert_exporter": "python",
   "pygments_lexer": "ipython3",
   "version": "3.9.6"
  },
  "orig_nbformat": 4
 },
 "nbformat": 4,
 "nbformat_minor": 2
}
